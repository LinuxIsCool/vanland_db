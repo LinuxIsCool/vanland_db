{
 "cells": [
  {
   "cell_type": "code",
   "execution_count": null,
   "metadata": {},
   "outputs": [],
   "source": [
    "# default_exp scraper"
   ]
  },
  {
   "cell_type": "markdown",
   "metadata": {},
   "source": [
    "# Scraper\n",
    "\n",
    "> This module is used to scrape https://www.point2homes.com for all land available on Vancouver Island."
   ]
  },
  {
   "cell_type": "code",
   "execution_count": null,
   "metadata": {},
   "outputs": [],
   "source": [
    "#hide\n",
    "from nbdev.showdoc import *\n",
    "from lxml.etree import HTML\n",
    "from selenium import webdriver\n",
    "from selenium.webdriver.common.by import By\n",
    "import xmltodict as xd"
   ]
  },
  {
   "cell_type": "code",
   "execution_count": null,
   "metadata": {},
   "outputs": [],
   "source": [
    "def read_land_column(lands):\n",
    "    land_list = []\n",
    "    for land in lands:\n",
    "        data = xd.parse(etree.tostring(land))['div']['div']\n",
    "        address = data[0]['@data-address']\n",
    "        try:\n",
    "            price = data[1]['@data-price']\n",
    "            lot_size = data[2]['ul']['li'][0]['strong']\n",
    "            property_type = data[2]['ul']['li'][1]['#text']\n",
    "            link = data[4]['a']['@href']\n",
    "            land_list.append({\n",
    "                'address': address,\n",
    "                'price':price,\n",
    "                'lot_size':lot_size,\n",
    "                'property_type':property_type,\n",
    "                'link':link\n",
    "            })\n",
    "        except:\n",
    "            print(f'Failed on {address}')\n",
    "    return land_list"
   ]
  },
  {
   "cell_type": "code",
   "execution_count": null,
   "metadata": {},
   "outputs": [],
   "source": [
    "url = \"https://www.point2homes.com/CA/Land-For-Sale-Maps/BC/Vancouver-Island.html\"\n",
    "\n",
    "browser = webdriver.Firefox()\n",
    "browser.get(url)\n",
    "\n",
    "\n",
    "pages = []"
   ]
  },
  {
   "cell_type": "code",
   "execution_count": null,
   "metadata": {},
   "outputs": [],
   "source": [
    "from time import sleep"
   ]
  },
  {
   "cell_type": "code",
   "execution_count": null,
   "metadata": {},
   "outputs": [
    {
     "name": "stdout",
     "output_type": "stream",
     "text": [
      "Failed on 1182 Silversmith Place \n",
      "99\n",
      "Next Page\n",
      "Failed on 1182 Silversmith Place \n",
      "Failed on 1178 Silversmith Place \n",
      "197\n",
      "Next Page\n",
      "Failed on 43 KESTREL DRIVE \n",
      "Failed on LT 4 LANTZVILLE ROAD \n",
      "295\n",
      "Next Page\n",
      "Failed on 890 CRUIKSHANK RIDGE \n",
      "Failed on 988 KHENIPSEN ROAD \n",
      "393\n",
      "Next Page\n",
      "Failed on 715 GLACIER VIEW CIRC \n",
      "Failed on LT 3 LANTZVILLE ROAD \n",
      "Failed on 776 PARK AVE \n",
      "Failed on 711 KELSEY WAY \n",
      "489\n",
      "Next Page\n",
      "Failed on 12 5TH STREET \n",
      "Failed on 1915 CUMBERLAND ROAD \n",
      "Failed on 4090 FALK ROAD \n",
      "586\n",
      "Next Page\n",
      "Failed on 5130 ARGYLE STREET \n",
      "Failed on 3083 COBBLE HILL ROAD \n",
      "684\n",
      "Next Page\n",
      "Failed on 7010 SPROUT ROAD \n",
      "Failed on LT 14 & 15 Joan Ave \n",
      "782\n",
      "Next Page\n",
      "Failed on Lot 4 ALLADIN AVE \n",
      "Failed on 1219-1221 Carlisle Ave \n",
      "880\n",
      "Next Page\n",
      "Failed on 2096 PENINSULA ROAD \n",
      "979\n",
      "Next Page\n",
      "Failed on 1932 Mt. Newton Cross Rd \n",
      "1078\n",
      "Next Page\n",
      "Failed on 5814 LINLEY VALLEY DR \n",
      "1086\n"
     ]
    }
   ],
   "source": [
    "while(1):\n",
    "    html = browser.page_source\n",
    "    tree = HTML(html)\n",
    "    lands = tree.xpath(\"//div[@class='item_information']\")\n",
    "    \n",
    "    pages = pages + read_land_column(lands)\n",
    "    \n",
    "    print(len(pages))\n",
    "\n",
    "    e = browser.find_element(By.XPATH, \"//a[starts-with(@class,'pager-next')]\")\n",
    "    if 'disabled' in e.get_attribute('class'):\n",
    "        break\n",
    "    else:\n",
    "        print('Next Page')\n",
    "        e.click()\n",
    "        sleep(10)"
   ]
  },
  {
   "cell_type": "code",
   "execution_count": null,
   "metadata": {},
   "outputs": [],
   "source": [
    "df = pd.DataFrame(pages).drop_duplicates('address')"
   ]
  },
  {
   "cell_type": "code",
   "execution_count": null,
   "metadata": {},
   "outputs": [],
   "source": [
    "import re"
   ]
  },
  {
   "cell_type": "code",
   "execution_count": null,
   "metadata": {},
   "outputs": [],
   "source": [
    "def extract_numbers(s):\n",
    "    return float(''.join(re.findall(\"[-+]?\\d*\\.\\d+|\\d+\", s)))"
   ]
  },
  {
   "cell_type": "code",
   "execution_count": null,
   "metadata": {},
   "outputs": [
    {
     "data": {
      "text/plain": [
       "799000.0"
      ]
     },
     "execution_count": null,
     "metadata": {},
     "output_type": "execute_result"
    }
   ],
   "source": [
    "extract_numbers('$799,000 CAD')"
   ]
  },
  {
   "cell_type": "code",
   "execution_count": null,
   "metadata": {},
   "outputs": [],
   "source": [
    "df['price_float'] = df['price'].apply(extract_numbers)"
   ]
  },
  {
   "cell_type": "code",
   "execution_count": null,
   "metadata": {},
   "outputs": [],
   "source": [
    "df['lot_size_float'] = df['lot_size'].apply(extract_numbers)"
   ]
  },
  {
   "cell_type": "code",
   "execution_count": null,
   "metadata": {},
   "outputs": [],
   "source": [
    "df['Dollar per Acre'] = df['price_float'] / df['lot_size_float']"
   ]
  },
  {
   "cell_type": "code",
   "execution_count": null,
   "metadata": {},
   "outputs": [
    {
     "data": {
      "text/html": [
       "<div>\n",
       "<style scoped>\n",
       "    .dataframe tbody tr th:only-of-type {\n",
       "        vertical-align: middle;\n",
       "    }\n",
       "\n",
       "    .dataframe tbody tr th {\n",
       "        vertical-align: top;\n",
       "    }\n",
       "\n",
       "    .dataframe thead th {\n",
       "        text-align: right;\n",
       "    }\n",
       "</style>\n",
       "<table border=\"1\" class=\"dataframe\">\n",
       "  <thead>\n",
       "    <tr style=\"text-align: right;\">\n",
       "      <th></th>\n",
       "      <th>address</th>\n",
       "      <th>price</th>\n",
       "      <th>lot_size</th>\n",
       "      <th>property_type</th>\n",
       "      <th>link</th>\n",
       "      <th>price_float</th>\n",
       "      <th>lot_size_float</th>\n",
       "      <th>Dollar per Acre</th>\n",
       "    </tr>\n",
       "  </thead>\n",
       "  <tbody>\n",
       "    <tr>\n",
       "      <th>0</th>\n",
       "      <td>LOT 1 Oak Leaf Drive</td>\n",
       "      <td>$799,000 CAD</td>\n",
       "      <td>0.842 ac</td>\n",
       "      <td>Land</td>\n",
       "      <td>/CA/Vacant-Land-For-Sale/BC/Nanoose-Bay/LOT-1-...</td>\n",
       "      <td>799000.0</td>\n",
       "      <td>0.842</td>\n",
       "      <td>948931.116390</td>\n",
       "    </tr>\n",
       "    <tr>\n",
       "      <th>1</th>\n",
       "      <td>2970 Glen Eagles Road LT 30</td>\n",
       "      <td>$47,900 CAD</td>\n",
       "      <td>0.048 ac</td>\n",
       "      <td>Land</td>\n",
       "      <td>/CA/Vacant-Land-For-Sale/BC/Vancouver-Island/C...</td>\n",
       "      <td>47900.0</td>\n",
       "      <td>0.048</td>\n",
       "      <td>997916.666667</td>\n",
       "    </tr>\n",
       "    <tr>\n",
       "      <th>2</th>\n",
       "      <td>2970 Glen Eagles Road LT 29</td>\n",
       "      <td>$47,900 CAD</td>\n",
       "      <td>0.05 ac</td>\n",
       "      <td>Land</td>\n",
       "      <td>/CA/Vacant-Land-For-Sale/BC/Vancouver-Island/C...</td>\n",
       "      <td>47900.0</td>\n",
       "      <td>0.050</td>\n",
       "      <td>958000.000000</td>\n",
       "    </tr>\n",
       "    <tr>\n",
       "      <th>3</th>\n",
       "      <td>7000 The Point Road LT 7</td>\n",
       "      <td>$899,000 CAD</td>\n",
       "      <td>143 ac</td>\n",
       "      <td>Land</td>\n",
       "      <td>/CA/Vacant-Land-For-Sale/BC/Vancouver-Island/D...</td>\n",
       "      <td>899000.0</td>\n",
       "      <td>143.000</td>\n",
       "      <td>6286.713287</td>\n",
       "    </tr>\n",
       "    <tr>\n",
       "      <th>4</th>\n",
       "      <td>LOT C Oak Leaf Drive</td>\n",
       "      <td>$659,000 CAD</td>\n",
       "      <td>8.5 ac</td>\n",
       "      <td>Land</td>\n",
       "      <td>/CA/Vacant-Land-For-Sale/BC/Nanoose-Bay/LOT-C-...</td>\n",
       "      <td>659000.0</td>\n",
       "      <td>8.500</td>\n",
       "      <td>77529.411765</td>\n",
       "    </tr>\n",
       "  </tbody>\n",
       "</table>\n",
       "</div>"
      ],
      "text/plain": [
       "                       address         price  lot_size property_type  \\\n",
       "0        LOT 1 Oak Leaf Drive   $799,000 CAD  0.842 ac          Land   \n",
       "1  2970 Glen Eagles Road LT 30   $47,900 CAD  0.048 ac          Land   \n",
       "2  2970 Glen Eagles Road LT 29   $47,900 CAD   0.05 ac          Land   \n",
       "3     7000 The Point Road LT 7  $899,000 CAD    143 ac          Land   \n",
       "4        LOT C Oak Leaf Drive   $659,000 CAD    8.5 ac          Land   \n",
       "\n",
       "                                                link  price_float  \\\n",
       "0  /CA/Vacant-Land-For-Sale/BC/Nanoose-Bay/LOT-1-...     799000.0   \n",
       "1  /CA/Vacant-Land-For-Sale/BC/Vancouver-Island/C...      47900.0   \n",
       "2  /CA/Vacant-Land-For-Sale/BC/Vancouver-Island/C...      47900.0   \n",
       "3  /CA/Vacant-Land-For-Sale/BC/Vancouver-Island/D...     899000.0   \n",
       "4  /CA/Vacant-Land-For-Sale/BC/Nanoose-Bay/LOT-C-...     659000.0   \n",
       "\n",
       "   lot_size_float  Dollar per Acre  \n",
       "0           0.842    948931.116390  \n",
       "1           0.048    997916.666667  \n",
       "2           0.050    958000.000000  \n",
       "3         143.000      6286.713287  \n",
       "4           8.500     77529.411765  "
      ]
     },
     "execution_count": null,
     "metadata": {},
     "output_type": "execute_result"
    }
   ],
   "source": [
    "df.head()"
   ]
  },
  {
   "cell_type": "code",
   "execution_count": null,
   "metadata": {},
   "outputs": [],
   "source": [
    "df = df.sort_values('Dollar per Acre')"
   ]
  },
  {
   "cell_type": "code",
   "execution_count": null,
   "metadata": {},
   "outputs": [
    {
     "data": {
      "text/html": [
       "<div>\n",
       "<style scoped>\n",
       "    .dataframe tbody tr th:only-of-type {\n",
       "        vertical-align: middle;\n",
       "    }\n",
       "\n",
       "    .dataframe tbody tr th {\n",
       "        vertical-align: top;\n",
       "    }\n",
       "\n",
       "    .dataframe thead th {\n",
       "        text-align: right;\n",
       "    }\n",
       "</style>\n",
       "<table border=\"1\" class=\"dataframe\">\n",
       "  <thead>\n",
       "    <tr style=\"text-align: right;\">\n",
       "      <th></th>\n",
       "      <th>address</th>\n",
       "      <th>price</th>\n",
       "      <th>lot_size</th>\n",
       "      <th>property_type</th>\n",
       "      <th>link</th>\n",
       "      <th>price_float</th>\n",
       "      <th>lot_size_float</th>\n",
       "      <th>Dollar per Acre</th>\n",
       "    </tr>\n",
       "  </thead>\n",
       "  <tbody>\n",
       "    <tr>\n",
       "      <th>1131</th>\n",
       "      <td>12-15 West Coast Road</td>\n",
       "      <td>$1,200,000 CAD</td>\n",
       "      <td>422.54 ac</td>\n",
       "      <td>Land</td>\n",
       "      <td>/CA/Vacant-Land-For-Sale/BC/Vancouver-Island/C...</td>\n",
       "      <td>1200000.0</td>\n",
       "      <td>422.54</td>\n",
       "      <td>2839.967814</td>\n",
       "    </tr>\n",
       "    <tr>\n",
       "      <th>726</th>\n",
       "      <td>Lot 85 West Coast Rd</td>\n",
       "      <td>$739,900 CAD</td>\n",
       "      <td>160 ac</td>\n",
       "      <td>Land</td>\n",
       "      <td>/CA/Vacant-Land-For-Sale/BC/Sooke/Lot-85-West-...</td>\n",
       "      <td>739900.0</td>\n",
       "      <td>160.00</td>\n",
       "      <td>4624.375000</td>\n",
       "    </tr>\n",
       "    <tr>\n",
       "      <th>1068</th>\n",
       "      <td>LT 9 &amp; 10 HECATE COVE</td>\n",
       "      <td>$140,000 CAD</td>\n",
       "      <td>28.05 ac</td>\n",
       "      <td>Land</td>\n",
       "      <td>/CA/Vacant-Land-For-Sale/BC/Vancouver-Island/M...</td>\n",
       "      <td>140000.0</td>\n",
       "      <td>28.05</td>\n",
       "      <td>4991.087344</td>\n",
       "    </tr>\n",
       "    <tr>\n",
       "      <th>1129</th>\n",
       "      <td>LT 9 &amp; 10 Hecate Cove</td>\n",
       "      <td>$140,000 CAD</td>\n",
       "      <td>28.05 ac</td>\n",
       "      <td>Land</td>\n",
       "      <td>/CA/Vacant-Land-For-Sale/BC/Vancouver-Island/M...</td>\n",
       "      <td>140000.0</td>\n",
       "      <td>28.05</td>\n",
       "      <td>4991.087344</td>\n",
       "    </tr>\n",
       "    <tr>\n",
       "      <th>59</th>\n",
       "      <td>BLK 1242 Goldstream Heights (off)</td>\n",
       "      <td>$295,000 CAD</td>\n",
       "      <td>52 ac</td>\n",
       "      <td>Land</td>\n",
       "      <td>/CA/Vacant-Land-For-Sale/BC/Vancouver-Island/C...</td>\n",
       "      <td>295000.0</td>\n",
       "      <td>52.00</td>\n",
       "      <td>5673.076923</td>\n",
       "    </tr>\n",
       "  </tbody>\n",
       "</table>\n",
       "</div>"
      ],
      "text/plain": [
       "                                 address             price   lot_size  \\\n",
       "1131              12-15 West Coast Road    $1,200,000 CAD   422.54 ac   \n",
       "726                Lot 85 West Coast Rd      $739,900 CAD      160 ac   \n",
       "1068              LT 9 & 10 HECATE COVE      $140,000 CAD    28.05 ac   \n",
       "1129              LT 9 & 10 Hecate Cove      $140,000 CAD    28.05 ac   \n",
       "59    BLK 1242 Goldstream Heights (off)       $295,000 CAD      52 ac   \n",
       "\n",
       "     property_type                                               link  \\\n",
       "1131          Land  /CA/Vacant-Land-For-Sale/BC/Vancouver-Island/C...   \n",
       "726           Land  /CA/Vacant-Land-For-Sale/BC/Sooke/Lot-85-West-...   \n",
       "1068          Land  /CA/Vacant-Land-For-Sale/BC/Vancouver-Island/M...   \n",
       "1129          Land  /CA/Vacant-Land-For-Sale/BC/Vancouver-Island/M...   \n",
       "59            Land  /CA/Vacant-Land-For-Sale/BC/Vancouver-Island/C...   \n",
       "\n",
       "      price_float  lot_size_float  Dollar per Acre  \n",
       "1131    1200000.0          422.54      2839.967814  \n",
       "726      739900.0          160.00      4624.375000  \n",
       "1068     140000.0           28.05      4991.087344  \n",
       "1129     140000.0           28.05      4991.087344  \n",
       "59       295000.0           52.00      5673.076923  "
      ]
     },
     "execution_count": null,
     "metadata": {},
     "output_type": "execute_result"
    }
   ],
   "source": [
    "df.head()"
   ]
  },
  {
   "cell_type": "code",
   "execution_count": null,
   "metadata": {},
   "outputs": [
    {
     "data": {
      "text/plain": [
       "array(['/CA/Vacant-Land-For-Sale/BC/Vancouver-Island/Capital/12-15-West-Coast-Road/68422928.html',\n",
       "       '/CA/Vacant-Land-For-Sale/BC/Sooke/Lot-85-West-Coast-Rd/85853262.html',\n",
       "       '/CA/Vacant-Land-For-Sale/BC/Vancouver-Island/Mount-Waddington/LT-9-10-HECATE-COVE/69743973.html',\n",
       "       '/CA/Vacant-Land-For-Sale/BC/Vancouver-Island/Mount-Waddington/LT-9-10-Hecate-Cove/69747658.html',\n",
       "       '/CA/Vacant-Land-For-Sale/BC/Vancouver-Island/Cowichan-Valley/BLK-1242-Goldstream-Heights-off/50881059.html',\n",
       "       '/CA/Vacant-Land-For-Sale/BC/Vancouver-Island/Powell-River-District/GLINE-RD/88276963.html',\n",
       "       '/CA/Vacant-Land-For-Sale/BC/Vancouver-Island/Denman-Island/7000-The-Point-Road/79764534.html',\n",
       "       '/CA/Vacant-Land-For-Sale/BC/Vancouver-Island/Denman-Island/LT-7-7000-THE-POINT-ROAD/79742463.html',\n",
       "       '/CA/Vacant-Land-For-Sale/BC/Vancouver-Island/Alberni-Clayoquot/FORTUNE-CHANNEL/77176101.html',\n",
       "       '/CA/Vacant-Land-For-Sale/BC/Campbell-River/LT-5-CEDAR-CREEK-ROAD/86472499.html',\n",
       "       '/CA/Vacant-Land-For-Sale/BC/Vancouver-Island/Capital/23-West-Coast-Road/87898854.html',\n",
       "       '/CA/Vacant-Land-For-Sale/BC/Vancouver-Island/Strathcona-District/1181-Heriot-Bay-Road/78920174.html',\n",
       "       '/CA/Vacant-Land-For-Sale/BC/Vancouver-Island/Powell-River-District/Sec-27-WELDON-OFF-ROAD/38230454.html',\n",
       "       '/CA/Vacant-Land-For-Sale/BC/Vancouver-Island/Denman-Island/LT-49-4001-PARK-ROAD/73615639.html',\n",
       "       '/CA/Vacant-Land-For-Sale/BC/Vancouver-Island/Denman-Island/4001-Park-Road/73565405.html',\n",
       "       '/CA/Vacant-Land-For-Sale/BC/Qualicum-Beach/LT-10-Spider-Lake-Road/87709074.html',\n",
       "       '/CA/Vacant-Land-For-Sale/BC/Qualicum-Beach/LT-10-SPIDER-LAKE-ROAD/87738640.html',\n",
       "       '/CA/Vacant-Land-For-Sale/BC/Sooke/West-Coast-Road/Section-41-Clark-Rd/84164872.html',\n",
       "       '/CA/Vacant-Land-For-Sale/BC/Qualicum-Beach/LT-A-Spider-Lake-Road/87788888.html',\n",
       "       '/CA/Vacant-Land-For-Sale/BC/Vancouver-Island/Strathcona-District/LT-9-Plumper-Harbour/64638574.html',\n",
       "       '/CA/Vacant-Land-For-Sale/BC/Vancouver-Island/Strathcona-District/LT-9-PLUMPER-HARBOUR/64561807.html',\n",
       "       '/CA/Vacant-Land-For-Sale/BC/Vancouver-Island/Cowichan-Valley/LT-7-CRACROFT-ISLAND/86660813.html',\n",
       "       '/CA/Vacant-Land-For-Sale/BC/Sooke/Lot-1-Lighthouse-Point-Rd/86738706.html',\n",
       "       '/CA/Vacant-Land-For-Sale/BC/Vancouver-Island/Comox-Valley/4724-DOVE-CREEK-ROAD/83647152.html',\n",
       "       '/CA/Vacant-Land-For-Sale/BC/Vancouver-Island/Little-River/LT-189-ELLENOR-ROAD/84038573.html',\n",
       "       '/CA/Vacant-Land-For-Sale/BC/Vancouver-Island/Strathcona-District/LT-1-Plumper-Harbour/87416544.html',\n",
       "       '/CA/Vacant-Land-For-Sale/BC/Vancouver-Island/Strathcona-District/LT-1-PLUMPER-HARBOUR/87413690.html',\n",
       "       '/CA/Vacant-Land-For-Sale/BC/Vancouver-Island/Mount-Waddington/LT-11-Alice-Lake/75911585.html',\n",
       "       '/CA/Vacant-Land-For-Sale/BC/Vancouver-Island/Mount-Waddington/LT-11-ALICE-LAKE/75897026.html',\n",
       "       '/CA/Vacant-Land-For-Sale/BC/Vancouver-Island/Cowichan-Valley/LT-9-Cowichan-Valley-Hwy/71622524.html',\n",
       "       '/CA/Vacant-Land-For-Sale/BC/Vancouver-Island/Mount-Waddington/LT-13-ALICE-LAKE/75897049.html',\n",
       "       '/CA/Vacant-Land-For-Sale/BC/Vancouver-Island/Mount-Waddington/LT-13-Alice-Lake/75911599.html',\n",
       "       '/CA/Vacant-Land-For-Sale/BC/Vancouver-Island/Mount-Waddington/SL-F-Chatham-Channel/76950185.html',\n",
       "       '/CA/Vacant-Land-For-Sale/BC/Vancouver-Island/Mount-Waddington/LT-12-Alice-Lake/75911596.html',\n",
       "       '/CA/Vacant-Land-For-Sale/BC/Vancouver-Island/Mount-Waddington/LT-12-ALICE-LAKE/75897031.html',\n",
       "       '/CA/Vacant-Land-For-Sale/BC/Vancouver-Island/Strathcona-District/LT-391-REDEEL-RD/76088079.html',\n",
       "       '/CA/Vacant-Land-For-Sale/BC/Vancouver-Island/Mount-Waddington/LT-15-ALICE-LAKE/75897058.html',\n",
       "       '/CA/Vacant-Land-For-Sale/BC/Vancouver-Island/Mount-Waddington/LT-15-Alice-Lake/75911601.html',\n",
       "       '/CA/Vacant-Land-For-Sale/BC/Vancouver-Island/Mount-Waddington/SL-E-Chatham-Channel/76950215.html',\n",
       "       '/CA/Vacant-Land-For-Sale/BC/Vancouver-Island/Mount-Waddington/SL-D-Chatham-Channel/76950197.html'],\n",
       "      dtype=object)"
      ]
     },
     "execution_count": null,
     "metadata": {},
     "output_type": "execute_result"
    }
   ],
   "source": [
    "df.head(40)['link'].values"
   ]
  },
  {
   "cell_type": "code",
   "execution_count": null,
   "metadata": {},
   "outputs": [],
   "source": [
    "df['link'] = 'https://www.point2homes.com' + df['link']"
   ]
  },
  {
   "cell_type": "code",
   "execution_count": null,
   "metadata": {},
   "outputs": [],
   "source": [
    "df['Dollar per Acre'] = df['Dollar per Acre'].apply(round)"
   ]
  },
  {
   "cell_type": "code",
   "execution_count": null,
   "metadata": {},
   "outputs": [],
   "source": [
    "df.to_csv('VancouverIsland.csv', index=False)"
   ]
  },
  {
   "cell_type": "code",
   "execution_count": null,
   "metadata": {},
   "outputs": [
    {
     "data": {
      "text/plain": [
       "121"
      ]
     },
     "execution_count": null,
     "metadata": {},
     "output_type": "execute_result"
    }
   ],
   "source": [
    "len(pages)extract_numbers"
   ]
  },
  {
   "cell_type": "code",
   "execution_count": null,
   "metadata": {},
   "outputs": [],
   "source": []
  },
  {
   "cell_type": "code",
   "execution_count": null,
   "metadata": {},
   "outputs": [],
   "source": [
    "df = pd.DataFrame(land_list)"
   ]
  },
  {
   "cell_type": "code",
   "execution_count": null,
   "metadata": {},
   "outputs": [],
   "source": [
    "df.sort_values('price_float').to_csv('VancouverIsland-Cheapest.csv',index=False)"
   ]
  },
  {
   "cell_type": "code",
   "execution_count": null,
   "metadata": {},
   "outputs": [
    {
     "data": {
      "text/plain": [
       "array(['LT 38 RUXTON ISLAND ', '$75,000 CAD', '2.15 ac', 'Land',\n",
       "       '/CA/Vacant-Land-For-Sale/BC/Vancouver-Island/Cowichan-Valley/LT-38-RUXTON-ISLAND/88932209.html'],\n",
       "      dtype=object)"
      ]
     },
     "execution_count": null,
     "metadata": {},
     "output_type": "execute_result"
    }
   ],
   "source": [
    "df.iloc[92].values"
   ]
  },
  {
   "cell_type": "code",
   "execution_count": null,
   "metadata": {},
   "outputs": [],
   "source": []
  },
  {
   "cell_type": "code",
   "execution_count": null,
   "metadata": {},
   "outputs": [],
   "source": []
  },
  {
   "cell_type": "code",
   "execution_count": null,
   "metadata": {},
   "outputs": [],
   "source": [
    "next_page = browser.find_element(By.XPATH, \"//input[starts-with(@name,'username')]\")\n",
    "password = browser.find_element(By.XPATH, \"//input[starts-with(@name,'password')]\")\n",
    "\n",
    "username.send_keys(\"Carole@impactisi.com\")\n",
    "password.send_keys(\"password123\")\n",
    "browser.find_element(By.XPATH, \"//input[starts-with(@name,'Login')]\").click()"
   ]
  },
  {
   "cell_type": "code",
   "execution_count": null,
   "metadata": {},
   "outputs": [],
   "source": [
    "pager-next"
   ]
  },
  {
   "cell_type": "code",
   "execution_count": null,
   "metadata": {},
   "outputs": [],
   "source": [
    "# price, ac, price/ac, datetime, id, area"
   ]
  },
  {
   "cell_type": "code",
   "execution_count": null,
   "metadata": {},
   "outputs": [
    {
     "data": {
      "text/plain": [
       "10.38"
      ]
     },
     "execution_count": null,
     "metadata": {},
     "output_type": "execute_result"
    }
   ],
   "source": [
    "1038 / 100"
   ]
  },
  {
   "cell_type": "code",
   "execution_count": null,
   "metadata": {},
   "outputs": [
    {
     "ename": "SyntaxError",
     "evalue": "invalid syntax (<ipython-input-111-5589d66c2c9c>, line 3)",
     "output_type": "error",
     "traceback": [
      "\u001b[0;36m  File \u001b[0;32m\"<ipython-input-111-5589d66c2c9c>\"\u001b[0;36m, line \u001b[0;32m3\u001b[0m\n\u001b[0;31m    'price':\u001b[0m\n\u001b[0m           ^\u001b[0m\n\u001b[0;31mSyntaxError\u001b[0m\u001b[0;31m:\u001b[0m invalid syntax\n"
     ]
    }
   ],
   "source": [
    "item = {\n",
    "    'address':\n",
    "    'price':\n",
    "    'characteristics':\n",
    "    'labels':\n",
    "    'detail_link'\n",
    "}"
   ]
  },
  {
   "cell_type": "code",
   "execution_count": null,
   "metadata": {},
   "outputs": [],
   "source": [
    "import pandas as pd"
   ]
  },
  {
   "cell_type": "code",
   "execution_count": null,
   "metadata": {},
   "outputs": [],
   "source": [
    "from lxml import etree"
   ]
  },
  {
   "cell_type": "code",
   "execution_count": null,
   "metadata": {},
   "outputs": [
    {
     "data": {
      "text/plain": [
       "b'<div class=\"item_information\">\\n        <div class=\"item_address\" data-url=\"/CA/Vacant-Land-For-Sale/BC/Nanoose-Bay/LOT-1-Oak-Leaf-Drive/82258309.html\" data-tracking=\"\" data-address=\"LOT 1 Oak Leaf Drive \">\\n            <div class=\"address-container\">\\n                <span>LOT 1 Oak Leaf Drive </span>\\n            </div>\\n\\n        </div>\\n<div class=\"price \" data-price=\"$799,000 CAD\">\\n    <span class=\"green\">\\n            <span> $799,000 CAD</span>\\n    </span>\\n\\n</div>\\n        <div class=\"characteristics-cnt\">\\n\\n\\n<ul>\\n                    <li data-label=\"Lot Size\" class=\"ic-lotsize\">\\n            <strong>0.842 ac</strong> <span class=\"gray\">Lot Size</span>\\n        </li>\\n            <li class=\"property-type ic-proptype\">\\n            Land\\n        </li>\\n</ul>\\n\\n\\n        </div>\\n        <div class=\"labels\">\\n            <div class=\"featured-icon\" title=\"Featured\"/>\\n\\n        </div>\\n        <div class=\"lnk_details\">\\n            <a rel=\"\" href=\"/CA/Vacant-Land-For-Sale/BC/Nanoose-Bay/LOT-1-Oak-Leaf-Drive/82258309.html\" onclick=\"featuredListingClick(82258309, 2228339, \\'CA\\', 737097); psrk.cancelBubble(event);\" title=\"Land - LOT 1 Oak Leaf Drive \" target=\"_blank\"><span>Details</span></a>\\n        </div>\\n\\n    </div>\\n    '"
      ]
     },
     "execution_count": null,
     "metadata": {},
     "output_type": "execute_result"
    }
   ],
   "source": [
    "etree.tostring(tree)"
   ]
  },
  {
   "cell_type": "code",
   "execution_count": null,
   "metadata": {},
   "outputs": [
    {
     "data": {
      "text/plain": [
       "[b'<div class=\"item_information\">\\n        <div class=\"item_address\" data-url=\"/CA/Vacant-Land-For-Sale/BC/Nanoose-Bay/LOT-1-Oak-Leaf-Drive/82258309.html\" data-tracking=\"\" data-address=\"LOT 1 Oak Leaf Drive \">\\n            <div class=\"address-container\">\\n                <span>LOT 1 Oak Leaf Drive </span>\\n            </div>\\n\\n        </div>\\n<div class=\"price \" data-price=\"$799,000 CAD\">\\n    <span class=\"green\">\\n            <span> $799,000 CAD</span>\\n    </span>\\n\\n</div>\\n        <div class=\"characteristics-cnt\">\\n\\n\\n<ul>\\n                    <li data-label=\"Lot Size\" class=\"ic-lotsize\">\\n            <strong>0.842 ac</strong> <span class=\"gray\">Lot Size</span>\\n        </li>\\n            <li class=\"property-type ic-proptype\">\\n            Land\\n        </li>\\n</ul>\\n\\n\\n        </div>\\n        <div class=\"labels\">\\n            <div class=\"featured-icon\" title=\"Featured\"/>\\n\\n        </div>\\n        <div class=\"lnk_details\">\\n            <a rel=\"\" href=\"/CA/Vacant-Land-For-Sale/BC/Nanoose-Bay/LOT-1-Oak-Leaf-Drive/82258309.html\" onclick=\"featuredListingClick(82258309, 2228339, \\'CA\\', 737097); psrk.cancelBubble(event);\" title=\"Land - LOT 1 Oak Leaf Drive \" target=\"_blank\"><span>Details</span></a>\\n        </div>\\n\\n    </div>\\n    ']"
      ]
     },
     "execution_count": null,
     "metadata": {},
     "output_type": "execute_result"
    }
   ],
   "source": [
    "etree.tostringlist(tree)"
   ]
  },
  {
   "cell_type": "code",
   "execution_count": null,
   "metadata": {},
   "outputs": [],
   "source": []
  },
  {
   "cell_type": "code",
   "execution_count": null,
   "metadata": {},
   "outputs": [
    {
     "name": "stderr",
     "output_type": "stream",
     "text": [
      "/usr/lib/python3.6/urllib/parse.py:107: FutureWarning: The behavior of this method will change in future versions. Use specific 'len(elem)' or 'elem is not None' test instead.\n",
      "  return tuple(x.decode(encoding, errors) if x else '' for x in args)\n"
     ]
    },
    {
     "ename": "TypeError",
     "evalue": "Cannot read object of type '_Element'",
     "output_type": "error",
     "traceback": [
      "\u001b[0;31m---------------------------------------------------------------------------\u001b[0m",
      "\u001b[0;31mTypeError\u001b[0m                                 Traceback (most recent call last)",
      "\u001b[0;32m<ipython-input-98-388389fa760c>\u001b[0m in \u001b[0;36m<module>\u001b[0;34m\u001b[0m\n\u001b[0;32m----> 1\u001b[0;31m \u001b[0mpd\u001b[0m\u001b[0;34m.\u001b[0m\u001b[0mread_html\u001b[0m\u001b[0;34m(\u001b[0m\u001b[0mtree\u001b[0m\u001b[0;34m)\u001b[0m\u001b[0;34m\u001b[0m\u001b[0;34m\u001b[0m\u001b[0m\n\u001b[0m",
      "\u001b[0;32m~/.virtualenvs/LTF/lib/python3.6/site-packages/pandas/io/html.py\u001b[0m in \u001b[0;36mread_html\u001b[0;34m(io, match, flavor, header, index_col, skiprows, attrs, parse_dates, thousands, encoding, decimal, converters, na_values, keep_default_na, displayed_only)\u001b[0m\n\u001b[1;32m   1103\u001b[0m         \u001b[0mna_values\u001b[0m\u001b[0;34m=\u001b[0m\u001b[0mna_values\u001b[0m\u001b[0;34m,\u001b[0m\u001b[0;34m\u001b[0m\u001b[0;34m\u001b[0m\u001b[0m\n\u001b[1;32m   1104\u001b[0m         \u001b[0mkeep_default_na\u001b[0m\u001b[0;34m=\u001b[0m\u001b[0mkeep_default_na\u001b[0m\u001b[0;34m,\u001b[0m\u001b[0;34m\u001b[0m\u001b[0;34m\u001b[0m\u001b[0m\n\u001b[0;32m-> 1105\u001b[0;31m         \u001b[0mdisplayed_only\u001b[0m\u001b[0;34m=\u001b[0m\u001b[0mdisplayed_only\u001b[0m\u001b[0;34m,\u001b[0m\u001b[0;34m\u001b[0m\u001b[0;34m\u001b[0m\u001b[0m\n\u001b[0m\u001b[1;32m   1106\u001b[0m     )\n",
      "\u001b[0;32m~/.virtualenvs/LTF/lib/python3.6/site-packages/pandas/io/html.py\u001b[0m in \u001b[0;36m_parse\u001b[0;34m(flavor, io, match, attrs, encoding, displayed_only, **kwargs)\u001b[0m\n\u001b[1;32m    910\u001b[0m             \u001b[0;32mbreak\u001b[0m\u001b[0;34m\u001b[0m\u001b[0;34m\u001b[0m\u001b[0m\n\u001b[1;32m    911\u001b[0m     \u001b[0;32melse\u001b[0m\u001b[0;34m:\u001b[0m\u001b[0;34m\u001b[0m\u001b[0;34m\u001b[0m\u001b[0m\n\u001b[0;32m--> 912\u001b[0;31m         \u001b[0mraise_with_traceback\u001b[0m\u001b[0;34m(\u001b[0m\u001b[0mretained\u001b[0m\u001b[0;34m)\u001b[0m\u001b[0;34m\u001b[0m\u001b[0;34m\u001b[0m\u001b[0m\n\u001b[0m\u001b[1;32m    913\u001b[0m \u001b[0;34m\u001b[0m\u001b[0m\n\u001b[1;32m    914\u001b[0m     \u001b[0mret\u001b[0m \u001b[0;34m=\u001b[0m \u001b[0;34m[\u001b[0m\u001b[0;34m]\u001b[0m\u001b[0;34m\u001b[0m\u001b[0;34m\u001b[0m\u001b[0m\n",
      "\u001b[0;32m~/.virtualenvs/LTF/lib/python3.6/site-packages/pandas/compat/__init__.py\u001b[0m in \u001b[0;36mraise_with_traceback\u001b[0;34m(exc, traceback)\u001b[0m\n\u001b[1;32m     45\u001b[0m     \u001b[0;32mif\u001b[0m \u001b[0mtraceback\u001b[0m \u001b[0;34m==\u001b[0m \u001b[0mEllipsis\u001b[0m\u001b[0;34m:\u001b[0m\u001b[0;34m\u001b[0m\u001b[0;34m\u001b[0m\u001b[0m\n\u001b[1;32m     46\u001b[0m         \u001b[0m_\u001b[0m\u001b[0;34m,\u001b[0m \u001b[0m_\u001b[0m\u001b[0;34m,\u001b[0m \u001b[0mtraceback\u001b[0m \u001b[0;34m=\u001b[0m \u001b[0msys\u001b[0m\u001b[0;34m.\u001b[0m\u001b[0mexc_info\u001b[0m\u001b[0;34m(\u001b[0m\u001b[0;34m)\u001b[0m\u001b[0;34m\u001b[0m\u001b[0;34m\u001b[0m\u001b[0m\n\u001b[0;32m---> 47\u001b[0;31m     \u001b[0;32mraise\u001b[0m \u001b[0mexc\u001b[0m\u001b[0;34m.\u001b[0m\u001b[0mwith_traceback\u001b[0m\u001b[0;34m(\u001b[0m\u001b[0mtraceback\u001b[0m\u001b[0;34m)\u001b[0m\u001b[0;34m\u001b[0m\u001b[0;34m\u001b[0m\u001b[0m\n\u001b[0m\u001b[1;32m     48\u001b[0m \u001b[0;34m\u001b[0m\u001b[0m\n\u001b[1;32m     49\u001b[0m \u001b[0;34m\u001b[0m\u001b[0m\n",
      "\u001b[0;31mTypeError\u001b[0m: Cannot read object of type '_Element'"
     ]
    }
   ],
   "source": [
    "pd.read_html(tree)"
   ]
  },
  {
   "cell_type": "code",
   "execution_count": null,
   "metadata": {},
   "outputs": [],
   "source": [
    "tree = lands[0]"
   ]
  },
  {
   "cell_type": "code",
   "execution_count": null,
   "metadata": {},
   "outputs": [],
   "source": [
    "price = tree.xpath(\"//div[@class='price']\")\n"
   ]
  },
  {
   "cell_type": "code",
   "execution_count": null,
   "metadata": {},
   "outputs": [
    {
     "data": {
      "text/plain": [
       "[<Element div at 0x7fb8ac045a88>]"
      ]
     },
     "execution_count": null,
     "metadata": {},
     "output_type": "execute_result"
    }
   ],
   "source": [
    "price"
   ]
  },
  {
   "cell_type": "code",
   "execution_count": null,
   "metadata": {},
   "outputs": [],
   "source": [
    "e = price[0]"
   ]
  },
  {
   "cell_type": "code",
   "execution_count": null,
   "metadata": {},
   "outputs": [
    {
     "data": {
      "text/plain": [
       "'$47,900 CAD'"
      ]
     },
     "execution_count": null,
     "metadata": {},
     "output_type": "execute_result"
    }
   ],
   "source": [
    "e.text"
   ]
  },
  {
   "cell_type": "code",
   "execution_count": null,
   "metadata": {},
   "outputs": [],
   "source": []
  },
  {
   "cell_type": "code",
   "execution_count": null,
   "metadata": {},
   "outputs": [],
   "source": [
    "address = tree.xpath(\"//div[@class='item_address']\")\n"
   ]
  },
  {
   "cell_type": "code",
   "execution_count": null,
   "metadata": {},
   "outputs": [],
   "source": []
  },
  {
   "cell_type": "code",
   "execution_count": null,
   "metadata": {},
   "outputs": [
    {
     "data": {
      "text/plain": [
       "'LOT 1 Oak Leaf Drive '"
      ]
     },
     "execution_count": null,
     "metadata": {},
     "output_type": "execute_result"
    }
   ],
   "source": [
    "address[0].attrib['data-address']"
   ]
  },
  {
   "cell_type": "code",
   "execution_count": null,
   "metadata": {},
   "outputs": [],
   "source": [
    "data-address"
   ]
  },
  {
   "cell_type": "code",
   "execution_count": null,
   "metadata": {},
   "outputs": [],
   "source": [
    "descriptions = tree.xpath(\"//div[@class='info member-info']\")\n",
    "links = tree.xpath(\"//a[@class='learn-more']\")"
   ]
  },
  {
   "cell_type": "code",
   "execution_count": null,
   "metadata": {},
   "outputs": [
    {
     "data": {
      "text/plain": [
       "[<Element div at 0x7fb8ac0d0408>,\n",
       " <Element div at 0x7fb8ac0d0d08>,\n",
       " <Element div at 0x7fb8ac0f57c8>,\n",
       " <Element div at 0x7fb8ac045448>,\n",
       " <Element div at 0x7fb8ac045488>,\n",
       " <Element div at 0x7fb8ac045508>,\n",
       " <Element div at 0x7fb896df03c8>,\n",
       " <Element div at 0x7fb896df0408>,\n",
       " <Element div at 0x7fb896df0448>,\n",
       " <Element div at 0x7fb8ac0454c8>,\n",
       " <Element div at 0x7fb896df0488>,\n",
       " <Element div at 0x7fb896df04c8>,\n",
       " <Element div at 0x7fb896df0508>,\n",
       " <Element div at 0x7fb896df0548>,\n",
       " <Element div at 0x7fb896df0588>,\n",
       " <Element div at 0x7fb896df05c8>,\n",
       " <Element div at 0x7fb896df0608>,\n",
       " <Element div at 0x7fb896df0648>,\n",
       " <Element div at 0x7fb896df0688>,\n",
       " <Element div at 0x7fb896df06c8>,\n",
       " <Element div at 0x7fb896df0708>,\n",
       " <Element div at 0x7fb896df0748>,\n",
       " <Element div at 0x7fb896df0788>,\n",
       " <Element div at 0x7fb896df07c8>,\n",
       " <Element div at 0x7fb896df0808>,\n",
       " <Element div at 0x7fb896df0848>,\n",
       " <Element div at 0x7fb896df0888>,\n",
       " <Element div at 0x7fb896df08c8>,\n",
       " <Element div at 0x7fb896df0908>,\n",
       " <Element div at 0x7fb896df0948>,\n",
       " <Element div at 0x7fb896df0988>,\n",
       " <Element div at 0x7fb896df09c8>,\n",
       " <Element div at 0x7fb896df0a08>,\n",
       " <Element div at 0x7fb896df0a48>,\n",
       " <Element div at 0x7fb896df0a88>,\n",
       " <Element div at 0x7fb896df0ac8>,\n",
       " <Element div at 0x7fb896df0b08>,\n",
       " <Element div at 0x7fb896df0b48>,\n",
       " <Element div at 0x7fb896df0b88>,\n",
       " <Element div at 0x7fb896df0bc8>,\n",
       " <Element div at 0x7fb896df0c08>,\n",
       " <Element div at 0x7fb896df0c48>,\n",
       " <Element div at 0x7fb896df0c88>,\n",
       " <Element div at 0x7fb896df0cc8>,\n",
       " <Element div at 0x7fb896df0d08>,\n",
       " <Element div at 0x7fb896df0d48>,\n",
       " <Element div at 0x7fb896df0d88>,\n",
       " <Element div at 0x7fb896df0dc8>,\n",
       " <Element div at 0x7fb896df0e08>,\n",
       " <Element div at 0x7fb896df0e48>,\n",
       " <Element div at 0x7fb896df0e88>,\n",
       " <Element div at 0x7fb896df0ec8>,\n",
       " <Element div at 0x7fb896df0f08>,\n",
       " <Element div at 0x7fb896df0f48>,\n",
       " <Element div at 0x7fb896df0f88>,\n",
       " <Element div at 0x7fb896df0fc8>,\n",
       " <Element div at 0x7fb8ac073048>,\n",
       " <Element div at 0x7fb8ac073088>,\n",
       " <Element div at 0x7fb8ac0730c8>,\n",
       " <Element div at 0x7fb8ac073108>,\n",
       " <Element div at 0x7fb8ac073148>,\n",
       " <Element div at 0x7fb8ac073188>,\n",
       " <Element div at 0x7fb8ac0731c8>,\n",
       " <Element div at 0x7fb8ac073208>,\n",
       " <Element div at 0x7fb8ac073248>,\n",
       " <Element div at 0x7fb8ac073288>,\n",
       " <Element div at 0x7fb8ac0732c8>,\n",
       " <Element div at 0x7fb8ac073308>,\n",
       " <Element div at 0x7fb8ac073348>,\n",
       " <Element div at 0x7fb8ac073388>,\n",
       " <Element div at 0x7fb8ac0733c8>,\n",
       " <Element div at 0x7fb8ac073408>,\n",
       " <Element div at 0x7fb8ac073448>,\n",
       " <Element div at 0x7fb8ac073488>,\n",
       " <Element div at 0x7fb8ac0734c8>,\n",
       " <Element div at 0x7fb8ac073508>,\n",
       " <Element div at 0x7fb8ac073548>,\n",
       " <Element div at 0x7fb8ac073588>,\n",
       " <Element div at 0x7fb8ac0735c8>,\n",
       " <Element div at 0x7fb8ac073608>,\n",
       " <Element div at 0x7fb8ac073648>,\n",
       " <Element div at 0x7fb8ac073688>,\n",
       " <Element div at 0x7fb8ac0736c8>,\n",
       " <Element div at 0x7fb8ac073708>,\n",
       " <Element div at 0x7fb8ac073748>,\n",
       " <Element div at 0x7fb8ac073788>,\n",
       " <Element div at 0x7fb8ac0737c8>,\n",
       " <Element div at 0x7fb8ac073808>,\n",
       " <Element div at 0x7fb8ac073848>,\n",
       " <Element div at 0x7fb8ac073888>,\n",
       " <Element div at 0x7fb8ac0738c8>,\n",
       " <Element div at 0x7fb8ac073908>,\n",
       " <Element div at 0x7fb8ac073948>,\n",
       " <Element div at 0x7fb8ac073988>,\n",
       " <Element div at 0x7fb8ac0739c8>,\n",
       " <Element div at 0x7fb8ac073a08>,\n",
       " <Element div at 0x7fb8ac073a48>,\n",
       " <Element div at 0x7fb8ac073a88>,\n",
       " <Element div at 0x7fb8ac073ac8>,\n",
       " <Element div at 0x7fb8ac073b08>]"
      ]
     },
     "execution_count": null,
     "metadata": {},
     "output_type": "execute_result"
    }
   ],
   "source": [
    "lands"
   ]
  },
  {
   "cell_type": "code",
   "execution_count": null,
   "metadata": {},
   "outputs": [],
   "source": []
  }
 ],
 "metadata": {
  "kernelspec": {
   "display_name": "Python 3",
   "language": "python",
   "name": "python3"
  }
 },
 "nbformat": 4,
 "nbformat_minor": 4
}
